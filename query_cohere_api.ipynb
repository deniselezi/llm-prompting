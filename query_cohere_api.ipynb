{
 "cells": [
  {
   "cell_type": "code",
   "execution_count": null,
   "id": "initial_id",
   "metadata": {
    "ExecuteTime": {
     "end_time": "2025-04-02T12:35:32.125126400Z",
     "start_time": "2025-04-02T12:35:30.090751900Z"
    },
    "collapsed": true
   },
   "outputs": [
    {
     "name": "stdout",
     "output_type": "stream",
     "text": [
      "Too cheaply constructed.\n"
     ]
    },
    {
     "ename": "KeyboardInterrupt",
     "evalue": "",
     "output_type": "error",
     "traceback": [
      "\u001b[31m---------------------------------------------------------------------------\u001b[39m",
      "\u001b[31mKeyboardInterrupt\u001b[39m                         Traceback (most recent call last)",
      "\u001b[36mCell\u001b[39m\u001b[36m \u001b[39m\u001b[32mIn[32]\u001b[39m\u001b[32m, line 45\u001b[39m\n\u001b[32m     41\u001b[39m     \u001b[38;5;28;01mwith\u001b[39;00m \u001b[38;5;28mopen\u001b[39m(\u001b[33m'\u001b[39m\u001b[33mresults.json\u001b[39m\u001b[33m'\u001b[39m, \u001b[33m'\u001b[39m\u001b[33mw\u001b[39m\u001b[33m'\u001b[39m, encoding=\u001b[33m'\u001b[39m\u001b[33mutf-8\u001b[39m\u001b[33m'\u001b[39m) \u001b[38;5;28;01mas\u001b[39;00m outfile:\n\u001b[32m     42\u001b[39m         json.dump(results, outfile, indent=\u001b[32m4\u001b[39m)\n\u001b[32m---> \u001b[39m\u001b[32m45\u001b[39m \u001b[43mrun\u001b[49m\u001b[43m(\u001b[49m\u001b[43mjson_data\u001b[49m\u001b[43m,\u001b[49m\u001b[43m \u001b[49m\u001b[43mmode\u001b[49m\u001b[43m=\u001b[49m\u001b[33;43m'\u001b[39;49m\u001b[33;43mzero-shot\u001b[39;49m\u001b[33;43m'\u001b[39;49m\u001b[43m)\u001b[49m\n",
      "\u001b[36mCell\u001b[39m\u001b[36m \u001b[39m\u001b[32mIn[32]\u001b[39m\u001b[32m, line 39\u001b[39m, in \u001b[36mrun\u001b[39m\u001b[34m(data, mode)\u001b[39m\n\u001b[32m     36\u001b[39m             \u001b[38;5;28mprint\u001b[39m(response)\n\u001b[32m     38\u001b[39m             \u001b[38;5;66;03m# Rate limiting: Sleep for 1.5 seconds to not exceed 40 calls per minute\u001b[39;00m\n\u001b[32m---> \u001b[39m\u001b[32m39\u001b[39m             \u001b[43mtime\u001b[49m\u001b[43m.\u001b[49m\u001b[43msleep\u001b[49m\u001b[43m(\u001b[49m\u001b[32;43m1.5\u001b[39;49m\u001b[43m)\u001b[49m\n\u001b[32m     41\u001b[39m \u001b[38;5;28;01mwith\u001b[39;00m \u001b[38;5;28mopen\u001b[39m(\u001b[33m'\u001b[39m\u001b[33mresults.json\u001b[39m\u001b[33m'\u001b[39m, \u001b[33m'\u001b[39m\u001b[33mw\u001b[39m\u001b[33m'\u001b[39m, encoding=\u001b[33m'\u001b[39m\u001b[33mutf-8\u001b[39m\u001b[33m'\u001b[39m) \u001b[38;5;28;01mas\u001b[39;00m outfile:\n\u001b[32m     42\u001b[39m     json.dump(results, outfile, indent=\u001b[32m4\u001b[39m)\n",
      "\u001b[31mKeyboardInterrupt\u001b[39m: "
     ]
    }
   ],
   "source": [
    "import json\n",
    "import time\n",
    "from cohere import Client\n",
    "\n",
    "API_KEY = \"\"\n",
    "\n",
    "with open('rrc/laptop/dev.json', 'r', encoding='utf-8') as file:\n",
    "    json_data = json.load(file)\n",
    "\n",
    "client = Client(api_key=API_KEY)\n",
    "\n",
    "def create_prompt(context, question, mode):\n",
    "    if mode==\"zero-shot\":\n",
    "        prompt = \"Here is the context:[\" + context + \"]. Here is the question: [\" + question + \"]. You should answer the question using only words which are contained in the context itself. Use only as many words as necessary to answer the question. Do not reorder the words or add any words not contained in the context.\"\n",
    "    elif mode==\"one-shot\":\n",
    "        prompt = \"Here is the context:[\" + context + \"]. Here is the question: [\" + question + \"]. You should answer the question using only words which are contained in the context itself. Use only as many words as necessary to answer the question. Do not reorder the words or add any words not contained in the context.\" + \" Here is an example to guide you. Example context: [This is a great value for the money . We purchased this as a back up computer after our more expensive HP needed to be repaired . This is a great computer . We have n't had any problems with it at all . The body is a bit cheaply made so it will be interesting to see how long it holds up . Overall though , for the money spent it 's a great deal .]. Example question: [how is the value ?]. Correct example response: [great].\"\n",
    "    return prompt\n",
    "        \n",
    "def run(data, mode):\n",
    "    results = {}\n",
    "    for item in data[\"data\"]:\n",
    "        for paragraph in item[\"paragraphs\"]:\n",
    "            context = paragraph[\"context\"]\n",
    "            for qa in paragraph[\"qas\"]:\n",
    "                question = qa[\"question\"]\n",
    "                question_id = qa[\"id\"]\n",
    "                prompt = create_prompt(context, question, mode)\n",
    "                response = client.v2.chat(\n",
    "                    model=\"command-r\",\n",
    "                    messages=[\n",
    "                         {\"role\": \"user\", \"content\": prompt}\n",
    "                    ]\n",
    "                ).message.content[0].text\n",
    "                \n",
    "                results[question_id] = response\n",
    "                print(response)\n",
    "                \n",
    "                # Rate limiting: Sleep for 1.5 seconds to not exceed 40 calls per minute\n",
    "                time.sleep(1.5)\n",
    "    \n",
    "    with open('results.json', 'w', encoding='utf-8') as outfile:\n",
    "        json.dump(results, outfile, indent=4)\n",
    "                \n",
    "\n",
    "run(json_data, mode='zero-shot')"
   ]
  }
 ],
 "metadata": {
  "kernelspec": {
   "display_name": "bert_env",
   "language": "python",
   "name": "bert_env"
  },
  "language_info": {
   "codemirror_mode": {
    "name": "ipython",
    "version": 2
   },
   "file_extension": ".py",
   "mimetype": "text/x-python",
   "name": "python",
   "nbconvert_exporter": "python",
   "pygments_lexer": "ipython2",
   "version": "2.7.6"
  }
 },
 "nbformat": 4,
 "nbformat_minor": 5
}
